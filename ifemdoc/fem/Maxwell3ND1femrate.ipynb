{
 "cells": [
  {
   "cell_type": "markdown",
   "metadata": {},
   "source": [
    "# Linear Edge Element for Maxwell Equations in 3D"
   ]
  },
  {
   "cell_type": "markdown",
   "metadata": {},
   "source": [
    "This example is to show the linear edge element approximation of the electric field of the time harmonic Maxwell equation.\n",
    "  \n",
    "\\begin{align}\n",
    "\\nabla \\times (\\mu^{-1}\\nabla \\times  u) - \\omega^2 \\varepsilon \\, u &= J  \\quad  \\text{ in } \\quad \\Omega,  \\\\\n",
    "                                  n \\times u &= n \\times g_D  \\quad  \\text{ on } \\quad \\Gamma_D,\\\\\n",
    "                    n \\times (\\mu^{-1}\\nabla \\times  u) &= n \\times g_N  \\quad  \\text{ on } \\quad \\Gamma_N.\n",
    "\\end{align}\n",
    "\n",
    "\n",
    "based on the weak formulation\n",
    "\n",
    "$$(\\mu^{-1}\\nabla \\times  u, \\nabla \\times  v) - (\\omega^2\\varepsilon u,v) = (J,v) - \\langle n \\times g_N,v \\rangle_{\\Gamma_N}.$$"
   ]
  },
  {
   "cell_type": "markdown",
   "metadata": {},
   "source": [
    "**Reference**\n",
    "- [Finite Element Methods for Maxwell Equations](http://www.math.uci.edu/~chenlong/226/FEMMaxwell.pdf)\n",
    "- [Programming of Finite Element Methods for Maxwell Equations](http://www.math.uci.edu/~chenlong/226/codeMaxwell.pdf)\n",
    "\n",
    "**Subroutines**:\n",
    "\n",
    "    - Maxwell1\n",
    "    - cubeMaxwell1\n",
    "    - femMaxwell3\n",
    "    - Maxwell1femrate\n",
    "    \n",
    "The method is implemented in `Maxwell1` subroutine and tested in `cubeMaxwell1`. Together with other elements (ND0,ND1,ND2), `femMaxwell3` provides a concise interface to solve Maxwell equation. The ND1 element is tested in `Maxwell1femrate`. This doc is based on `Maxwell1femrate`.    "
   ]
  },
  {
   "cell_type": "markdown",
   "metadata": {},
   "source": [
    "## Data Structure\n",
    "\n",
    "Use the function\n",
    "\n",
    "    [elem2dof,edge,elem2edgeSign] = dof3edge(elem);\n",
    "\n",
    "to construct the pointer from element index to edge index. Read\n",
    "<dof3edgedoc.html Dof on Edges in Three Dimensions> for details.\n"
   ]
  },
  {
   "cell_type": "code",
   "execution_count": 1,
   "metadata": {},
   "outputs": [
    {
     "data": {
      "image/png": "[encoded data removed]",
      "text/plain": [
       "<IPython.core.display.Image object>"
      ]
     },
     "metadata": {},
     "output_type": "display_data"
    }
   ],
   "source": [
    "node = [1,0,0; 0,1,0; 0,0,0; 0,0,1];\n",
    "elem = [1 2 3 4];\n",
    "localEdge = [1 2; 1 3; 1 4; 2 3; 2 4; 3 4];\n",
    "figure;\n",
    "showmesh3(node,elem);\n",
    "view(-72,9);\n",
    "findnode3(node);\n",
    "findedge(node,localEdge,'all','vec');"
   ]
  },
  {
   "cell_type": "markdown",
   "metadata": {},
   "source": [
    "The six dofs associated to edges in a tetrahedron is sorted in the ordering `[1 2; 1 3; 1 4; 2 3; 2 4; 3 4]`. Here `[1 2 3 4]` are local indices of vertices.\n",
    "\n",
    "Globally we use ascend ordering for each element and thus the orientation of the edge is consistent. No need of `elem2edgeSign`. Read [Simplicial complex in three dimensions](../mesh/sc3doc.html) for more discussion of indexing, ordering and orientation."
   ]
  },
  {
   "cell_type": "markdown",
   "metadata": {},
   "source": [
    "## Local Bases\n",
    "Suppose `[i,j]` is the kth edge and `i<j`. The basis is given by \n",
    "\n",
    "$$ \\phi _k = \\lambda_i\\nabla \\lambda_j - \\lambda_j \\nabla \\lambda_i,\\qquad\n",
    "   \\nabla \\times \\phi_k = 2\\nabla \\lambda_i \\times \\nabla \\lambda_j.$$\n",
    "\n",
    "Inside one tetrahedron, the 6 bases functions along with their curl\n",
    "corresponding to 6 local edges `[1 2; 1 3; 1 4; 2 3; 2 4; 3 4]` are\n",
    "\n",
    "$$ \\phi_1 = \\lambda_1\\nabla\\lambda_2 - \\lambda_2\\nabla\\lambda_1,\\qquad\n",
    "   \\nabla \\times \\phi_1 = 2\\nabla\\lambda_1\\times \\nabla\\lambda_2,$$\n",
    "\n",
    "$$ \\phi_2 = \\lambda_1\\nabla\\lambda_3 - \\lambda_3\\nabla\\lambda_1,\\qquad\n",
    "   \\nabla \\times \\phi_2 = 2\\nabla\\lambda_1\\times \\nabla\\lambda_3,$$\n",
    "\n",
    "$$ \\phi_3 = \\lambda_1\\nabla\\lambda_4 - \\lambda_4\\nabla\\lambda_1,\\qquad\n",
    "   \\nabla \\times \\phi_3 = 2\\nabla\\lambda_1\\times \\nabla\\lambda_4,$$\n",
    "\n",
    "$$ \\phi_4 = \\lambda_2\\nabla\\lambda_3 - \\lambda_3\\nabla\\lambda_2,\\qquad\n",
    "   \\nabla \\times \\phi_4 = 2\\nabla\\lambda_2\\times \\nabla\\lambda_3,$$\n",
    "\n",
    "$$ \\phi_5 = \\lambda_2\\nabla\\lambda_4 - \\lambda_4\\nabla\\lambda_2,\\qquad\n",
    "   \\nabla \\times \\phi_5 = 2\\nabla\\lambda_2\\times \\nabla\\lambda_4,$$\n",
    "\n",
    "$$ \\phi_6 = \\lambda_3\\nabla\\lambda_4 - \\lambda_4\\nabla\\lambda_3,\\qquad\n",
    "   \\nabla \\times \\phi_6 = 2\\nabla\\lambda_3\\times \\nabla\\lambda_4.$$\n",
    "\n",
    "\n",
    "The additional 6 bases for the second family are:\n",
    "\n",
    "$$ \\psi_k = \\lambda_i\\nabla \\lambda_j + \\lambda_j \\nabla \\lambda_i,\\qquad\n",
    "   \\nabla \\times \\psi_k = 0.$$\n",
    "\n",
    "$$ \\psi_1 = \\lambda_1\\nabla\\lambda_2 + \\lambda_2\\nabla\\lambda_1,$$\n",
    "\n",
    "$$ \\psi_2 = \\lambda_1\\nabla\\lambda_3 + \\lambda_3\\nabla\\lambda_1,$$\n",
    "\n",
    "$$ \\psi_3 = \\lambda_1\\nabla\\lambda_4 + \\lambda_4\\nabla\\lambda_1,$$\n",
    "\n",
    "$$ \\psi_4 = \\lambda_2\\nabla\\lambda_3 + \\lambda_3\\nabla\\lambda_2,$$\n",
    "\n",
    "$$ \\psi_5 = \\lambda_2\\nabla\\lambda_4 + \\lambda_4\\nabla\\lambda_2,$$\n",
    "\n",
    "$$ \\psi_6 = \\lambda_3\\nabla\\lambda_4 + \\lambda_4\\nabla\\lambda_3.$$\n"
   ]
  },
  {
   "cell_type": "markdown",
   "metadata": {},
   "source": [
    "## Degree of freedoms\n",
    "\n",
    "Suppose `[i,j]` is the kth edge and `i<j`. The corresponding degree of freedom is\n",
    "\n",
    "$$l_k (v) = \\int_{e_k} v\\cdot t \\, {\\rm d}s \\approx \\frac{1}{2}[v(i)+v(j)]\\cdot e_{k}.$$\n",
    "\n",
    "It is dual to the basis $\\{\\phi_k\\}$ in the sense that\n",
    "\n",
    "$$l_{\\ell}(\\phi _k) = \\delta_{k,\\ell}.$$\n",
    "\n",
    "The additional 6 degree of freedoms are:\n",
    "\n",
    "$$l_k^1 (v) = 3\\int_{e_k} v\\cdot t(\\lambda _i - \\lambda_j) \\, {\\rm d}s  \\approx \\frac{1}{2}[v(i) - v(j)]\\cdot e_{k}.$$\n"
   ]
  },
  {
   "cell_type": "code",
   "execution_count": null,
   "metadata": {},
   "outputs": [],
   "source": []
  }
 ],
 "metadata": {
  "kernelspec": {
   "display_name": "Matlab",
   "language": "matlab",
   "name": "matlab"
  },
  "language_info": {
   "codemirror_mode": "octave",
   "file_extension": ".m",
   "help_links": [
    {
     "text": "MetaKernel Magics",
     "url": "https://github.com/calysto/metakernel/blob/master/metakernel/magics/README.md"
    }
   ],
   "mimetype": "text/x-matlab",
   "name": "matlab",
   "version": "0.14.3"
  },
  "toc": {
   "colors": {
    "hover_highlight": "#DAA520",
    "navigate_num": "#000000",
    "navigate_text": "#333333",
    "running_highlight": "#FF0000",
    "selected_highlight": "#FFD700",
    "sidebar_border": "#EEEEEE",
    "wrapper_background": "#FFFFFF"
   },
   "moveMenuLeft": true,
   "nav_menu": {
    "height": "66px",
    "width": "252px"
   },
   "navigate_menu": true,
   "number_sections": true,
   "sideBar": true,
   "threshold": 4,
   "toc_cell": false,
   "toc_section_display": "block",
   "toc_window_display": true,
   "widenNotebook": false
  }
 },
 "nbformat": 4,
 "nbformat_minor": 2
}
