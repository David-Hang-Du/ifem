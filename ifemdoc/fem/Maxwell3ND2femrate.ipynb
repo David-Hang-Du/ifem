{
 "cells": [
  {
   "cell_type": "markdown",
   "metadata": {},
   "source": [
    "# Quadratic Edge Element for Maxwell Equations in 3D"
   ]
  },
  {
   "cell_type": "markdown",
   "metadata": {},
   "source": [
    "This example is to show the quadratic edge element approximation of the electric field of the time harmonic\n",
    "  Maxwell equation.\n",
    "\\begin{align}\n",
    "\\nabla \\times (\\mu^{-1}\\nabla \\times  u) - \\omega^2 \\varepsilon \\, u &= J  \\quad  \\text{ in } \\quad \\Omega,  \\\\\n",
    "                                  n \\times u &= n \\times g_D  \\quad  \\text{ on } \\quad \\Gamma_D,\\\\\n",
    "                    n \\times (\\mu^{-1}\\nabla \\times  u) &= n \\times g_N  \\quad  \\text{ on } \\quad \\Gamma_N.\n",
    "\\end{align}\n",
    "\n",
    "\n",
    "based on the weak formulation\n",
    "\n",
    "$$(\\mu^{-1}\\nabla \\times  u, \\nabla \\times  v) - (\\omega^2\\varepsilon u,v) = (J,v) - \\langle n \\times g_N,v \\rangle_{\\Gamma_N}.$$"
   ]
  },
  {
   "cell_type": "markdown",
   "metadata": {},
   "source": [
    "**Reference**\n",
    "- [Finite Element Methods for Maxwell Equations](http://www.math.uci.edu/~chenlong/226/FEMMaxwell.pdf)\n",
    "- [Programming of Finite Element Methods for Maxwell Equations](http://www.math.uci.edu/~chenlong/226/codeMaxwell.pdf)\n",
    "\n",
    "**Subroutines**:\n",
    "\n",
    "    - Maxwell2\n",
    "    - cubeMaxwell2\n",
    "    - femMaxwell3\n",
    "    - Maxwell2femrate\n",
    "    \n",
    "The method is implemented in `Maxwell2` subroutine and tested in `cubeMaxwell2`. Together with other elements (ND0,ND1,ND2), `femMaxwell3` provides a concise interface to solve Maxwell equation. The ND1 element is tested in `Maxwell2femrate`. This doc is based on `Maxwell2femrate`.    "
   ]
  },
  {
   "cell_type": "markdown",
   "metadata": {},
   "source": [
    "## Data Structure\n",
    "\n",
    "Locally we construct `locBasesIdx` to record the local index used in the bases. Globally we use ascend ordering for each element and thus the orientation of the edge is consistent. No need of `elem2edgeSign`. Read [Simplicial complex in three dimensions](../mesh/sc3doc.html) for more discussion of indexing, ordering and orientation.\n",
    "\n",
    "In addition to the edge structure, we need face and the corresponding pointers."
   ]
  },
  {
   "cell_type": "code",
   "execution_count": 3,
   "metadata": {},
   "outputs": [],
   "source": [
    "[node,elem] = cubemesh([0,1,0,1,0,1],1);\n",
    "[elem2edge,edge] = dof3edge(elem);\n",
    "[elem2face,face] = dof3face(elem); "
   ]
  },
  {
   "cell_type": "markdown",
   "metadata": {},
   "source": [
    "Furthermore we need pointer from face to edge. `face` is given by `auxtructure3` and is sorted according to global indices.\n",
    "`face2edge` is used to compute `uI`. So it is consistent with the local index system in `edgeinterpolate2`, i.e., if face is `(i,j,k)` with `i<j<k`, then the\n",
    "three edges are `[i j], [i k], [j k]`. "
   ]
  },
  {
   "cell_type": "code",
   "execution_count": 6,
   "metadata": {},
   "outputs": [],
   "source": [
    "face2edge = zeros(size(face,1),3,'int32');\n",
    "face2edge(elem2face(:,1),:) = elem2edge(:,[4 5 6]);\n",
    "face2edge(elem2face(:,2),:) = elem2edge(:,[2 3 6]);\n",
    "face2edge(elem2face(:,3),:) = elem2edge(:,[1 3 5]);\n",
    "face2edge(elem2face(:,4),:) = elem2edge(:,[1 2 4]);"
   ]
  },
  {
   "cell_type": "code",
   "execution_count": 7,
   "metadata": {},
   "outputs": [],
   "source": [
    "locEdge = [1 2; 1 3; 1 4; 2 3; 2 4; 3 4];\n",
    "locFace = [2 3 4; 1 3 4; 1 2 4; 1 2 3];\n",
    "locBasesIdx = [1 2 0; 1 3 0; 1 4 0; 2 3 0; 2 4 0; 3 4 0; ... % phi\n",
    "               1 2 0; 1 3 0; 1 4 0; 2 3 0; 2 4 0; 3 4 0; ... % psi\n",
    "               3 2 4; 3 1 4; 2 1 4; 2 1 3; ...\n",
    "               4 2 3; 4 1 3; 4 1 2; 3 1 2]; % chi"
   ]
  },
  {
   "cell_type": "markdown",
   "metadata": {},
   "source": [
    "Locally we construct `locBasesIdx` to record the local index used in the bases. For example, for basis $\\chi_i =\\lambda_{i_1}\\phi _{i_2i_3}$ for `i=4`, we can get `i1,i2,i3` by:"
   ]
  },
  {
   "cell_type": "code",
   "execution_count": 5,
   "metadata": {},
   "outputs": [],
   "source": [
    "i = 4+12;\n",
    "i1 = locBasesIdx(i,1); i2 = locBasesIdx(i,2); i3 = locBasesIdx(i,3);"
   ]
  },
  {
   "cell_type": "markdown",
   "metadata": {},
   "source": [
    "## Local Bases\n",
    "Suppose `[i,j]` is the kth edge and `i<j`. The basis is given by \n",
    "\n",
    "$$ \\phi _k = \\lambda_i\\nabla \\lambda_j - \\lambda_j \\nabla \\lambda_i,\\qquad\n",
    "   \\nabla \\times \\phi_k = 2\\nabla \\lambda_i \\times \\nabla \\lambda_j.$$\n",
    "\n",
    "Inside one tetrahedron, the 6 bases functions along with their curl\n",
    "corresponding to 6 local edges `[1 2; 1 3; 1 4; 2 3; 2 4; 3 4]` are\n",
    "\n",
    "$$ \\phi_1 = \\lambda_1\\nabla\\lambda_2 - \\lambda_2\\nabla\\lambda_1,\\qquad\n",
    "   \\nabla \\times \\phi_1 = 2\\nabla\\lambda_1\\times \\nabla\\lambda_2,$$\n",
    "\n",
    "$$ \\phi_2 = \\lambda_1\\nabla\\lambda_3 - \\lambda_3\\nabla\\lambda_1,\\qquad\n",
    "   \\nabla \\times \\phi_2 = 2\\nabla\\lambda_1\\times \\nabla\\lambda_3,$$\n",
    "\n",
    "$$ \\phi_3 = \\lambda_1\\nabla\\lambda_4 - \\lambda_4\\nabla\\lambda_1,\\qquad\n",
    "   \\nabla \\times \\phi_3 = 2\\nabla\\lambda_1\\times \\nabla\\lambda_4,$$\n",
    "\n",
    "$$ \\phi_4 = \\lambda_2\\nabla\\lambda_3 - \\lambda_3\\nabla\\lambda_2,\\qquad\n",
    "   \\nabla \\times \\phi_4 = 2\\nabla\\lambda_2\\times \\nabla\\lambda_3,$$\n",
    "\n",
    "$$ \\phi_5 = \\lambda_2\\nabla\\lambda_4 - \\lambda_4\\nabla\\lambda_2,\\qquad\n",
    "   \\nabla \\times \\phi_5 = 2\\nabla\\lambda_2\\times \\nabla\\lambda_4,$$\n",
    "\n",
    "$$ \\phi_6 = \\lambda_3\\nabla\\lambda_4 - \\lambda_4\\nabla\\lambda_3,\\qquad\n",
    "   \\nabla \\times \\phi_6 = 2\\nabla\\lambda_3\\times \\nabla\\lambda_4.$$\n",
    "\n",
    "\n",
    "The additional 6 bases for the second family are:\n",
    "\n",
    "$$ \\psi_k = \\lambda_i\\nabla \\lambda_j + \\lambda_j \\nabla \\lambda_i,\\qquad\n",
    "   \\nabla \\times \\psi_k = 0.$$\n",
    "\n",
    "$$ \\psi_1 = \\lambda_1\\nabla\\lambda_2 + \\lambda_2\\nabla\\lambda_1,$$\n",
    "\n",
    "$$ \\psi_2 = \\lambda_1\\nabla\\lambda_3 + \\lambda_3\\nabla\\lambda_1,$$\n",
    "\n",
    "$$ \\psi_3 = \\lambda_1\\nabla\\lambda_4 + \\lambda_4\\nabla\\lambda_1,$$\n",
    "\n",
    "$$ \\psi_4 = \\lambda_2\\nabla\\lambda_3 + \\lambda_3\\nabla\\lambda_2,$$\n",
    "\n",
    "$$ \\psi_5 = \\lambda_2\\nabla\\lambda_4 + \\lambda_4\\nabla\\lambda_2,$$\n",
    "\n",
    "$$ \\psi_6 = \\lambda_3\\nabla\\lambda_4 + \\lambda_4\\nabla\\lambda_3.$$"
   ]
  },
  {
   "cell_type": "markdown",
   "metadata": {},
   "source": [
    "Suppose `i,j,k` are the vertices of the `l`-th face and `i<j<k`. The two\n",
    "basis associated to this face are\n",
    "\n",
    "$$ \\chi_l^1 = \\lambda_j\\phi _{ik} = \\lambda_j(\\lambda_i\\nabla\\lambda_k -\n",
    "\\lambda_k\\nabla\\lambda_i),\\quad\n",
    "   \\chi_l^2 = \\lambda_k\\phi _{ij} = \\lambda_k(\\lambda_i\\nabla\\lambda_j -\n",
    "\\lambda_j\\nabla\\lambda_i).$$\n",
    "\n",
    "Inside one tetrahedron, the 8 bases functions assocaited to the four\n",
    "local faces `[2 3 4; 1 3 4; 1 2 4; 1 2 3]` are:\n",
    "\n",
    "$$ \\chi_1^1 = \\lambda_3\\phi _{24} = \\lambda_3(\\lambda_2\\nabla\\lambda_4 -\n",
    "\\lambda_4\\nabla\\lambda_2),\\quad\n",
    "   \\chi_1^2 = \\lambda_4\\phi _{23} = \\lambda_4(\\lambda_2\\nabla\\lambda_3 -\n",
    "\\lambda_3\\nabla\\lambda_2).$$\n",
    "\n",
    "$$ \\chi_2^1 = \\lambda_3\\phi _{14} = \\lambda_3(\\lambda_1\\nabla\\lambda_4 -\n",
    "\\lambda_4\\nabla\\lambda_1),\\quad\n",
    "   \\chi_2^2 = \\lambda_4\\phi _{13} = \\lambda_4(\\lambda_1\\nabla\\lambda_3 -\n",
    "\\lambda_3\\nabla\\lambda_1).$$\n",
    "\n",
    "$$ \\chi_3^1 = \\lambda_2\\phi _{14} = \\lambda_2(\\lambda_1\\nabla\\lambda_4 -\n",
    "\\lambda_4\\nabla\\lambda_1),\\quad\n",
    "   \\chi_3^2 = \\lambda_4\\phi _{12} = \\lambda_4(\\lambda_1\\nabla\\lambda_2 -\n",
    "\\lambda_2\\nabla\\lambda_1).$$\n",
    "\n",
    "$$ \\chi_4^1 = \\lambda_2\\phi _{13} = \\lambda_2(\\lambda_1\\nabla\\lambda_3 -\n",
    "\\lambda_3\\nabla\\lambda_1),\\quad\n",
    "   \\chi_4^2 = \\lambda_3\\phi _{12} = \\lambda_3(\\lambda_1\\nabla\\lambda_2 -\n",
    "\\lambda_2\\nabla\\lambda_1).$$\n",
    "\n",
    "**Reference**: See page 12, Table 9.2. Arnold, Douglas N. and Falk, Richard S. and Winther, Ragnar.\n",
    "Geometric decompositions and local bases for spaces of finite element\n",
    "differential forms. *Comput. Methods Appl. Mech. Engrg.* 198():1660--1672,\n",
    "2009.\n",
    "\n",
    "Locally, we order the local bases in the following way: \n",
    "\n",
    "$$\\{\\chi_1^1,~\\,\\chi_1^2,~\\,\\chi_2^1,~\\,\\chi_2^2,~\\,\\chi_3^1,~\\,\\chi_3^2,\n",
    "   ~\\,\\chi_4^1,~\\,\\chi_4^2.\\}$$\n",
    "\n",
    "and rewrite the local bases as: \n",
    "\n",
    "13- 20: $$\\{\\chi_1,~\\,\\chi_2,~\\,\\chi_3,~\\,\\chi_4,~\\,\\chi_5,~\\,\\chi_6,~\\,\n",
    "  \\chi_7,~\\,\\chi_8.\\}$$\n"
   ]
  },
  {
   "cell_type": "markdown",
   "metadata": {},
   "source": [
    "## Degree of freedoms\n",
    "\n",
    "Suppose `[i,j]` is the kth edge and `i<j`. The corresponding degree of freedom is\n",
    "\n",
    "$$l_k (v) = \\int_{e_k} v\\cdot t \\, {\\rm d}s \\approx \\frac{1}{2}[v(i)+v(j)]\\cdot e_{k}.$$\n",
    "\n",
    "It is dual to the basis $\\{\\phi_k\\}$ in the sense that\n",
    "\n",
    "$$l_{\\ell}(\\phi _k) = \\delta_{k,\\ell}.$$\n",
    "\n",
    "The 6 degree of freedoms for $\\psi_k$ are:\n",
    "\n",
    "$$l_k^1 (v) = 3\\int_{e_k} v\\cdot t(\\lambda _i - \\lambda_j) \\, {\\rm d}s  \\approx \\frac{1}{2}[v(i) - v(j)]\\cdot e_{k}.$$\n",
    "\n",
    "The 8 degree of freedoms for $\\chi_i$ is given in `"
   ]
  },
  {
   "cell_type": "code",
   "execution_count": null,
   "metadata": {},
   "outputs": [],
   "source": []
  }
 ],
 "metadata": {
  "kernelspec": {
   "display_name": "Matlab",
   "language": "matlab",
   "name": "matlab"
  },
  "language_info": {
   "codemirror_mode": "octave",
   "file_extension": ".m",
   "help_links": [
    {
     "text": "MetaKernel Magics",
     "url": "https://github.com/calysto/metakernel/blob/master/metakernel/magics/README.md"
    }
   ],
   "mimetype": "text/x-matlab",
   "name": "matlab",
   "version": "0.14.3"
  },
  "toc": {
   "colors": {
    "hover_highlight": "#DAA520",
    "navigate_num": "#000000",
    "navigate_text": "#333333",
    "running_highlight": "#FF0000",
    "selected_highlight": "#FFD700",
    "sidebar_border": "#EEEEEE",
    "wrapper_background": "#FFFFFF"
   },
   "moveMenuLeft": true,
   "nav_menu": {
    "height": "66px",
    "width": "252px"
   },
   "navigate_menu": true,
   "number_sections": true,
   "sideBar": true,
   "threshold": 4,
   "toc_cell": false,
   "toc_section_display": "block",
   "toc_window_display": true,
   "widenNotebook": false
  }
 },
 "nbformat": 4,
 "nbformat_minor": 2
}
