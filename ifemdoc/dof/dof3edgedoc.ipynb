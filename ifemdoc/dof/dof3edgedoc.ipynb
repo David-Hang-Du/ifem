{
 "cells": [
  {
   "cell_type": "markdown",
   "id": "5076d3af",
   "metadata": {},
   "source": [
    "# DoF on Edges in Three Dimensions\n",
    "\n",
    "We describe general idea of the data structures generated in subroutine \n",
    "`dof3edge` for three dimensional simplex grids. We refer to [Simplicial Complex in Two Dimensions](../mesh/sc3.html) for the discussion of ordering and orientation of edges."
   ]
  },
  {
   "cell_type": "markdown",
   "id": "4bba143b",
   "metadata": {},
   "source": [
    "`[elem2edge,edge] = dof3edge(elem)` constructs data structure for the\n",
    "lowest order edge element. In the output `elem2edge` is the elementwise\n",
    "pointer from `elem` to `edge`. The orientation of edges is from the smaller\n",
    "index to the bigger one. The indexing is the lexicographic order\n",
    "`locEdge = [1 2], [1 3], [1 4], [2 3], [2 4], [3 4]`\n",
    "and the ascend ordering is used. \n",
    "\n",
    "`[elem2edge,edge,elem2edgeSign] = dof3edge(elem)` also outputs elem2edgeSign\n",
    "which records the consistency of the local and the global edge orientation.\n",
    "If elem is the ascend ordering, then `elem2edgeSign` is 1 and not needed.\n",
    "\n",
    "See also `dofedge`."
   ]
  },
  {
   "cell_type": "markdown",
   "id": "d263a0d3",
   "metadata": {},
   "source": [
    "## Edges and local Edges"
   ]
  },
  {
   "cell_type": "code",
   "execution_count": 2,
   "id": "54711074",
   "metadata": {},
   "outputs": [],
   "source": [
    "%% Local Labeling of DOFs\n",
    "node = [1,0,0; 0,1,0; 0,0,0; 0,0,1];\n",
    "elem = [1 2 3 4];\n",
    "localEdge = [1 2; 1 3; 1 4; 2 3; 2 4; 3 4];\n",
    "edge = zeros(20,2);\n",
    "edge([1 12 5 20 11 4],:) = localEdge;\n",
    "elem2edge = [1 12 5 20 11 4];\n",
    "figure(1); clf;\n",
    "set(gcf,'Units','normal'); \n",
    "set(gcf,'Position',[0,0,0.6,0.4]);\n",
    "subplot(1,2,1)\n",
    "showmesh3(node,elem);\n",
    "view(-14,12);\n",
    "findnode3(node);\n",
    "findedge(node,localEdge,'all');\n",
    "subplot(1,2,2)\n",
    "showmesh3(node,elem);\n",
    "view(-14,12);\n",
    "% findnode3(node);\n",
    "findedge(node,edge,elem2edge');\n",
    "display(elem2edge);"
   ]
  },
  {
   "cell_type": "markdown",
   "id": "e92ddd02",
   "metadata": {},
   "source": [
    "The 6 dofs associated to edges in a tetrahedron is stored as `[1 2; 1 3; 1 4; 2 3; 2 4; 3 4]`. Here `[1 2 3 4]` are 4 vertices.\n",
    "\n",
    "For a mesh consisting of several tetrahedrons, all local edges are collected and the duplication is eliminated to form `edge` matrix. The pointer `elem2edge(:,1:6)` records the mapping from the local index to the global index of 6 edges in one tetrahedron."
   ]
  },
  {
   "cell_type": "markdown",
   "id": "92f8a732",
   "metadata": {},
   "source": [
    "## Orientation of Edges"
   ]
  },
  {
   "cell_type": "code",
   "execution_count": 3,
   "id": "7d4e4e37",
   "metadata": {},
   "outputs": [],
   "source": [
    "%% Orientation of Edges\n",
    "node = [1,0,0; 0,1,0; 0,0,0; 0,0,1];\n",
    "elem = [2 4 3 1];\n",
    "localEdge = [elem(:,1) elem(:,2); elem(:,1) elem(:,3); elem(:,1) elem(:,4); ...\n",
    "             elem(:,2) elem(:,3); elem(:,2) elem(:,4); elem(:,3) elem(:,4)];\n",
    "edge = sort(localEdge,2);\n",
    "elem2edge = [1 2 3 4 5 6];\n",
    "elem2edgeSign = [1 1 -1 -1 -1 -1];     \n",
    "figure(1); clf;\n",
    "set(gcf,'Units','normal'); \n",
    "set(gcf,'Position',[0,0,0.6,0.4]);\n",
    "subplot(1,2,1)\n",
    "showmesh3(node,elem);\n",
    "view(-14,12);\n",
    "tempnode = node(elem(:),:);\n",
    "findnode3(tempnode);\n",
    "findedge(node,localEdge,'all','vec');\n",
    "subplot(1,2,2)\n",
    "showmesh3(node,elem);\n",
    "view(-14,12);\n",
    "findnode3(node);\n",
    "findedge(node,edge,'all','vec');\n",
    "display(elem2edge)\n",
    "display(elem2edgeSign)"
   ]
  },
  {
   "cell_type": "markdown",
   "id": "8d261a19",
   "metadata": {},
   "source": [
    "The edge `[i,j]` is orientated in the direction such that `i<j`, where `i,j`\n",
    "are the *global* indices. The local 6 edges may not be consistent with this orientation. Therefore `elem2edgeSign` is used to indicate the consistency.\n",
    "\n",
    "The nodal indices in the left figure is local while that in the right is the global one. The local direction and global direction of edges is indicated by different edge vectors."
   ]
  },
  {
   "cell_type": "markdown",
   "id": "b813cf36",
   "metadata": {},
   "source": [
    "## Example"
   ]
  },
  {
   "cell_type": "code",
   "execution_count": 4,
   "id": "88f8c7ce",
   "metadata": {},
   "outputs": [
    {
     "name": "stdout",
     "output_type": "stream",
     "text": [
      "\n",
      "elem2edge =\n",
      "\n",
      "  6x6 uint32 matrix\n",
      "\n",
      "    1    3    7    8   10   14\n",
      "    2    3    7   11   13   14\n",
      "    4    5    7   15   17   18\n",
      "    4    6    7   16   17   19\n",
      "    1    5    7    9   10   18\n",
      "    2    6    7   12   13   19\n",
      "\n",
      "\n",
      "elem2edgeSign =\n",
      "\n",
      "     1     1     1     1     1     1\n",
      "     1     1     1     1     1     1\n",
      "     1     1     1     1     1     1\n",
      "     1     1     1     1     1     1\n",
      "     1     1     1     1     1     1\n",
      "     1     1     1     1     1     1\n",
      "\n"
     ]
    }
   ],
   "source": [
    "[node,elem] = cubemesh([0,1,0,1,0,1],1);\n",
    "[elem2edge,edge,elem2edgeSign] = dof3edge(elem);\n",
    "figure(1); clf;\n",
    "showmesh3(node,elem,[],'FaceAlpha',0.25);\n",
    "view(-30,10);\n",
    "findedge(node,edge,'all','vec');\n",
    "findelem3(node,elem,[1 3]');\n",
    "display(elem2edge);\n",
    "display(elem2edgeSign);"
   ]
  },
  {
   "cell_type": "code",
   "execution_count": null,
   "id": "2395b844",
   "metadata": {},
   "outputs": [],
   "source": []
  }
 ],
 "metadata": {
  "kernelspec": {
   "display_name": "MATLAB",
   "language": "matlab",
   "name": "imatlab"
  },
  "language_info": {
   "codemirror_mode": "octave",
   "file_extension": ".m",
   "mimetype": "text/x-matlab",
   "name": "matlab",
   "pygments_lexer": "matlab",
   "version": "9.9.0.1524771 (R2020b) Update 2"
  },
  "toc": {
   "colors": {
    "hover_highlight": "#DAA520",
    "navigate_num": "#000000",
    "navigate_text": "#333333",
    "running_highlight": "#FF0000",
    "selected_highlight": "#FFD700",
    "sidebar_border": "#EEEEEE",
    "wrapper_background": "#FFFFFF"
   },
   "moveMenuLeft": true,
   "nav_menu": {
    "height": "48px",
    "width": "252px"
   },
   "navigate_menu": true,
   "number_sections": true,
   "sideBar": true,
   "threshold": 4,
   "toc_cell": false,
   "toc_section_display": "block",
   "toc_window_display": false,
   "widenNotebook": false
  }
 },
 "nbformat": 4,
 "nbformat_minor": 5
}
